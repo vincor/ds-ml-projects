{
 "cells": [
  {
   "cell_type": "markdown",
   "metadata": {},
   "source": [
    "# U.S. Medical Insurance Costs\n",
    "\n",
    "In this project, we will investigate data from the **CSV** file containing information about **US Medical Insurance Costs**. We will get data from the file **_insurance.csv_**, organize data in lists and dictionaries and create a set of functions to help us to analyze the entire data and make our conclusions. "
   ]
  },
  {
   "cell_type": "markdown",
   "metadata": {},
   "source": [
    "#### 1. Firstly we have to import the dataset from the file and save it into a Python dictionary with keys equal to the names of columns in the file.  "
   ]
  },
  {
   "cell_type": "code",
   "execution_count": 11,
   "metadata": {},
   "outputs": [],
   "source": [
    "# import csv library\n",
    "import csv\n",
    "\n",
    "# initialise variable for the dictionary with all data\n",
    "insurance_costs_dictionary = {'age':[], 'sex':[], 'bmi':[], 'children':[], 'smoker':[], 'region': [], 'charges':[]}\n",
    "\n",
    "# open csv file and use class DictReader from the csv library to import all data\n",
    "with open('insurance.csv', newline='') as data_file:\n",
    "    import_csv = csv.DictReader(data_file)\n",
    "# define additional dictionary to convert automatically 'yes' and 'no' strings to a boolean type without \"if\" statement.    \n",
    "    yesno2bool = {'no': False, 'yes': True}\n",
    "# read row by row from the imported dataset and append values to a dictionary lists with necessary keys accordingly.\n",
    "    for row in import_csv:\n",
    "        insurance_costs_dictionary['age'].append(int(row['age']))\n",
    "        insurance_costs_dictionary['sex'].append(row['sex'])\n",
    "        insurance_costs_dictionary['bmi'].append(float(row['bmi']))\n",
    "        insurance_costs_dictionary['children'].append(int(row['children']))\n",
    "        insurance_costs_dictionary['smoker'].append(yesno2bool[row['smoker']])\n",
    "        insurance_costs_dictionary['region'].append(row['region'])\n",
    "        insurance_costs_dictionary['charges'].append(float(row['charges']))\n"
   ]
  },
  {
   "cell_type": "markdown",
   "metadata": {},
   "source": [
    "#### 2. Then we define service functions to find totals, averages, medians, standard deviations, minimums, and maximums of numerical data.\n"
   ]
  },
  {
   "cell_type": "code",
   "execution_count": 12,
   "metadata": {},
   "outputs": [],
   "source": [
    "# import math library\n",
    "import math\n",
    "# define the function to calculate a total sum of numerical data\n",
    "def total_sum(numlist):\n",
    "    t_sum = 0\n",
    "    for value in numlist: t_sum += value\n",
    "    return t_sum\n",
    "\n",
    "# define the function to calculate an average value of numerical data\n",
    "def average_value(numlist):\n",
    "    if len(numlist) > 0: return total_sum(numlist)/len(numlist)\n",
    "    return 0.0\n",
    "\n",
    "# define the function to calculate a minimum value of numerical data\n",
    "def min_value(numlist):\n",
    "    t_min = float(\"inf\")\n",
    "    for value in numlist:\n",
    "        if value < t_min: t_min = value\n",
    "    return t_min\n",
    "\n",
    "# define the function to calculate a maximum value of numerical data\n",
    "def max_value(numlist):\n",
    "    t_max = -float(\"inf\")\n",
    "    for value in numlist:\n",
    "        if value > t_max: t_max = value\n",
    "    return t_max\n",
    "\n",
    "# define the function to calculate a median value of numerical data\n",
    "def median_value(numlist):\n",
    "    numlist.sort()\n",
    "    n_len = len(numlist)\n",
    "    if n_len > 1:\n",
    "        return numlist[int((len(numlist)-1)/2)]\n",
    "    else:\n",
    "        return 0\n",
    "    \n",
    "# define the function to calculate a standard deviation value for numerical dataset\n",
    "def stdev_value(numlist):\n",
    "    n_len = len(numlist)\n",
    "    if n_len > 0:\n",
    "        t_mean = average_value(numlist)\n",
    "        t_stdev = 0\n",
    "        for val in numlist: t_stdev += (val - t_mean)*(val - t_mean)\n",
    "        \n",
    "        t_stdev /= n_len\n",
    "        t_stdev = math.sqrt(t_stdev)    \n",
    "            \n",
    "        return t_stdev\n",
    "    else:\n",
    "        return 0.0    \n"
   ]
  },
  {
   "cell_type": "markdown",
   "metadata": {},
   "source": [
    "**3. Now we have all the data organized in a set of lists within the dictionary, and we have a set of helpful functions to work with our dataset.**\n",
    "\n",
    "Then we are going to investigate different aspects and statistics from the dataset to help us make conclusions.\n",
    "\n",
    "We will study the following:\n",
    "\n",
    "* Total number of records in the dataset\n",
    "* The average age of patients (mean)\n",
    "* The median value of ages to compare with the mean value\n",
    "* The standard deviation of ages to know how widely our data is represented to be valid\n",
    "* The number male and female patients to analyze how evenly our data is distributed\n",
    "* The number of records in all unique regions to analyze how evenly our data is distributed\n",
    "* The minimum and maximum Insurance costs in our dataset\n",
    "* The average cost of insurance overall and distributed by region\n",
    "* The percentage of smoking patients in our data set (for all patients, in a group of males, in a group of females)\n",
    "* The average BMI (for all patients, in a group of males, in a group of females)\n",
    "* The average BMI for smoking and non-smoking patients\n",
    "* The most influencing parameters to the Insurance cost value \n",
    "    \n",
    "    "
   ]
  },
  {
   "cell_type": "code",
   "execution_count": 13,
   "metadata": {},
   "outputs": [
    {
     "name": "stdout",
     "output_type": "stream",
     "text": [
      "Total number of records in the dataset:  1338\n",
      "The Average age of patients (mean):  39.21\n"
     ]
    }
   ],
   "source": [
    "# Total number of records\n",
    "total_records = len(insurance_costs_dictionary['age'])\n",
    "print(\"Total number of records in the dataset: \", total_records)\n",
    "\n",
    "# Average age of patients (mean)\n",
    "average_age = average_value(insurance_costs_dictionary['age'])\n",
    "print(\"The Average age of patients (mean): \", round(average_age,2))"
   ]
  },
  {
   "cell_type": "code",
   "execution_count": 14,
   "metadata": {},
   "outputs": [
    {
     "name": "stdout",
     "output_type": "stream",
     "text": [
      "The Median value for ages of patients:  39\n"
     ]
    }
   ],
   "source": [
    "# Median value of ages\n",
    "median_age = median_value(insurance_costs_dictionary['age'])\n",
    "print(\"The Median value for ages of patients: \", median_age)"
   ]
  },
  {
   "cell_type": "markdown",
   "metadata": {},
   "source": [
    "**Conclusion:**\n",
    "\n",
    "The dataset has 1338 records in total. There is quite enough data to analyze and make conclusions.\n",
    "\n",
    "We see that the rounded mean value of ages in our dataset is the same as the median value. So we may conclude that data has no outliers in ages and so far is valid for our research.\n"
   ]
  },
  {
   "cell_type": "code",
   "execution_count": 15,
   "metadata": {},
   "outputs": [
    {
     "name": "stdout",
     "output_type": "stream",
     "text": [
      "The Standard deviation of ages:  14.04\n"
     ]
    }
   ],
   "source": [
    "# Standard deviation of ages\n",
    "print(\"The Standard deviation of ages: \", round(stdev_value(insurance_costs_dictionary['age']),2))"
   ]
  },
  {
   "cell_type": "markdown",
   "metadata": {},
   "source": [
    "**Conclusion:**\n",
    "\n",
    "We see that the standard deviation of ages in our dataset is 14 years. So we may conclude that data is quite widely distributed (mostly from 25 to 53 years old patients) and not biased in terms of age parameters.\n"
   ]
  },
  {
   "cell_type": "code",
   "execution_count": 16,
   "metadata": {},
   "outputs": [
    {
     "name": "stdout",
     "output_type": "stream",
     "text": [
      "There are 676 male patients and 662 female patients in the sample dataset\n"
     ]
    }
   ],
   "source": [
    "# Count male and female patients\n",
    "male_patients = insurance_costs_dictionary['sex'].count('male')\n",
    "female_patients = insurance_costs_dictionary['sex'].count('female')\n",
    "print(\"There are {} male patients and {} female patients in the sample dataset\".format(male_patients, female_patients))"
   ]
  },
  {
   "cell_type": "markdown",
   "metadata": {},
   "source": [
    "**Conclusion:**\n",
    "\n",
    "We see that the data is almost evenly distributed between male and female patients (676 vs 662) and not biased in terms of sex parameters.\n"
   ]
  },
  {
   "cell_type": "code",
   "execution_count": 17,
   "metadata": {},
   "outputs": [
    {
     "name": "stdout",
     "output_type": "stream",
     "text": [
      "The list of regions with number of records:\n",
      " Southwest: 325\n",
      " Southeast: 364\n",
      " Northwest: 325\n",
      " Northeast: 324\n"
     ]
    }
   ],
   "source": [
    "# Count records in all unique regions\n",
    "unique_regions = {}\n",
    "for region in insurance_costs_dictionary['region']:\n",
    "    if region in unique_regions.keys():\n",
    "        unique_regions[region] += 1\n",
    "    else:\n",
    "        unique_regions[region] = 1\n",
    "        \n",
    "print(\"The list of regions with number of records:\")        \n",
    "for region in unique_regions : print(\" {}: {}\".format(region.title(), unique_regions[region]))\n"
   ]
  },
  {
   "cell_type": "markdown",
   "metadata": {},
   "source": [
    "**Conclusion:**\n",
    "\n",
    "We see that the data is almost evenly distributed between three of the four regions and have slightly more patients from the Southeast US region. So the dataset is a bit biased in favor of the Southeast region, and this group contains 12% more records, so we should take that fact into account in our conclusions."
   ]
  },
  {
   "cell_type": "code",
   "execution_count": 18,
   "metadata": {},
   "outputs": [
    {
     "name": "stdout",
     "output_type": "stream",
     "text": [
      "The lowest Insurance Cost in the dataset is $1121.87 and the highest cost is $63770.43\n",
      "The difference is $62648.56\n",
      "The highest Insurance cost is 5584.3% higher than the lowest Insurance cost\n"
     ]
    }
   ],
   "source": [
    "# The minimum and maximum Insurace cost in the dataset\n",
    "\n",
    "min_cost = round(min_value(insurance_costs_dictionary['charges']), 2)\n",
    "max_cost = round(max_value(insurance_costs_dictionary['charges']), 2)\n",
    "print(\"The lowest Insurance Cost in the dataset is ${} and the highest cost is ${}\".format(min_cost, max_cost))\n",
    "print(\"The difference is ${}\".format(max_cost-min_cost))\n",
    "print(\"The highest Insurance cost is {}% higher than the lowest Insurance cost\".format(round(max_cost*100.0/min_cost - 100.0, 2)))\n"
   ]
  },
  {
   "cell_type": "markdown",
   "metadata": {},
   "source": [
    "**Conclusion:**\n",
    "\n",
    "There is a huge difference between the lowest and highest US Insurance Costs. We should find out which parameters influence the most value of the Insurance Cost."
   ]
  },
  {
   "cell_type": "code",
   "execution_count": 19,
   "metadata": {},
   "outputs": [
    {
     "name": "stdout",
     "output_type": "stream",
     "text": [
      "The average weighted cost is $13270.42\n",
      "The list of regions with an Average Insurance Cost by the region:\n",
      " Southwest: $12346.94\n",
      " Southeast: $14735.41\n",
      " Northwest: $12417.58\n",
      " Northeast: $13406.38\n"
     ]
    }
   ],
   "source": [
    "# The average cost (mean) of insurance overall and distributed by region\n",
    "\n",
    "average_cost = round(average_value(insurance_costs_dictionary['charges']), 2)\n",
    "print(\"The average weighted cost is ${}\".format(average_cost))\n",
    "\n",
    "average_cost_by_regions = {}\n",
    "for region in unique_regions:\n",
    "# use list comprehension with condition to select requred regions in data    \n",
    "    t_list = [val for reg, val in zip(insurance_costs_dictionary['region'],insurance_costs_dictionary['charges']) if reg == region]\n",
    "    average_cost_by_regions[region] = round(total_sum(t_list)/unique_regions[region], 2)\n",
    "    \n",
    "\n",
    "print(\"The list of regions with an Average Insurance Cost by the region:\")        \n",
    "for region in average_cost_by_regions : print(\" {}: ${}\".format(region.title(), average_cost_by_regions[region]))\n",
    "    "
   ]
  },
  {
   "cell_type": "markdown",
   "metadata": {},
   "source": [
    "**Conclusion:**\n",
    "\n",
    "We see that the Average Insurance Costs are almost evenly distributed among regions, and their values are very close to an overall weighted average. Again we see that the data from the Southwest region is slightly far from others, but we still can see that there is no big difference among regions, and the cost of insurance is fairly calculated in terms of the location of patients."
   ]
  },
  {
   "cell_type": "code",
   "execution_count": 20,
   "metadata": {},
   "outputs": [
    {
     "name": "stdout",
     "output_type": "stream",
     "text": [
      "The percentage of smoking patients (overall): 20.48%\n",
      " Smoking Males: 23.52%\n",
      " Smoking Females: 17.37%\n"
     ]
    }
   ],
   "source": [
    "# The percentage of smoking patients for all patients, in group of males, in group of females\n",
    "\n",
    "smokers_number = insurance_costs_dictionary['smoker'].count(True)\n",
    "\n",
    "smoking_patients_percentage = round(100.0*smokers_number/total_records, 2)\n",
    "\n",
    "smoking_patients_by_sex = {'male': 0, 'female': 0}\n",
    "# use list comprehension with condition to select requred sex in data    \n",
    "smoking_patients_by_sex['male'] = round([val for sex, val in zip(insurance_costs_dictionary['sex'],insurance_costs_dictionary['smoker']) if sex == 'male'].count(True)*100.0/male_patients, 2)\n",
    "smoking_patients_by_sex['female'] = round([val for sex, val in zip(insurance_costs_dictionary['sex'],insurance_costs_dictionary['smoker']) if sex == 'female'].count(True)*100.0/female_patients, 2)\n",
    "\n",
    "print(\"The percentage of smoking patients (overall): {}%\".format(smoking_patients_percentage))\n",
    "for sex in smoking_patients_by_sex : print(\" Smoking {}s: {}%\".format(sex.title(), smoking_patients_by_sex[sex]))\n",
    "\n"
   ]
  },
  {
   "cell_type": "markdown",
   "metadata": {},
   "source": [
    "**Conclusion:**\n",
    "\n",
    "One-fifth of all patients are smokers. The group of female patients contains a lesser percentage (17.37%) of smokers than the male group (23.52%), but the difference is not that big. Also, we can say that the dataset has valid sample data of smoking persons by sex parameter, and we can rely on that fact later in our conclusions."
   ]
  },
  {
   "cell_type": "code",
   "execution_count": 21,
   "metadata": {},
   "outputs": [
    {
     "name": "stdout",
     "output_type": "stream",
     "text": [
      "The average BMI for all patients: 30.66\n",
      " Males: 30.94\n",
      " Females: 30.38\n"
     ]
    }
   ],
   "source": [
    "# The average BMI (for all patients, in group of males, in group of females)\n",
    "\n",
    "average_bmi = round(average_value(insurance_costs_dictionary['bmi']), 2)\n",
    "\n",
    "average_bmi_by_sex = {'male': 0, 'female': 0}\n",
    "# use list comprehension with condition to select requred sex in data    \n",
    "average_bmi_by_sex['male'] = round(total_sum([val for sex, val in zip(insurance_costs_dictionary['sex'],insurance_costs_dictionary['bmi']) if sex == 'male'])/male_patients, 2)\n",
    "average_bmi_by_sex['female'] = round(total_sum([val for sex, val in zip(insurance_costs_dictionary['sex'],insurance_costs_dictionary['bmi']) if sex == 'female'])/female_patients, 2)\n",
    "\n",
    "print(\"The average BMI for all patients: {}\".format(average_bmi))\n",
    "for sex in average_bmi_by_sex : print(\" {}s: {}\".format(sex.title(), average_bmi_by_sex[sex]))"
   ]
  },
  {
   "cell_type": "markdown",
   "metadata": {},
   "source": [
    "**Conclusion:**\n",
    "\n",
    "We see that data given for BMI are evenly distributed among male and female groups because the average in total and for groups is almost the same. We can also notice that the average BMI is notably high. It shows the value from the range that indicates obesity.\n",
    "<sub>*(Underweight: BMI is less than 18.5 ; Normal weight: BMI is 18.5 to 24.9 ; Overweight: BMI is 25 to 29.9 ; Obese: BMI is 30 to 34.9 ; Extremly obese: BMI is more than 35)*</sub>\n",
    "Sadly that could be a common problem for the population of the USA. It should be checked and compared with alternative valid statistical data."
   ]
  },
  {
   "cell_type": "code",
   "execution_count": 22,
   "metadata": {},
   "outputs": [
    {
     "name": "stdout",
     "output_type": "stream",
     "text": [
      "The average BMI for:\n",
      " Non-Smokers: 30.65\n",
      " Smokers: 30.71\n"
     ]
    }
   ],
   "source": [
    "# The average BMI (for smoking and non-smoking patients)\n",
    "\n",
    "non_smokers_number = total_records - smokers_number\n",
    "average_bmi_by_smokers = {'non-smokers': 0, 'smokers': 0}\n",
    "# use list comprehension with condition to select if it is smoker or not in data    \n",
    "average_bmi_by_smokers['non-smokers'] = round(total_sum([val for smoker, val in zip(insurance_costs_dictionary['smoker'],insurance_costs_dictionary['bmi']) if not smoker])/non_smokers_number, 2)\n",
    "average_bmi_by_smokers['smokers'] = round(total_sum([val for smoker, val in zip(insurance_costs_dictionary['smoker'],insurance_costs_dictionary['bmi']) if smoker])/smokers_number, 2)\n",
    "\n",
    "print(\"The average BMI for:\")\n",
    "for smoker in average_bmi_by_smokers : print(\" {}: {}\".format(smoker.title(), average_bmi_by_smokers[smoker]))"
   ]
  },
  {
   "cell_type": "markdown",
   "metadata": {},
   "source": [
    "**Conclusion:**\n",
    "\n",
    "Surprisingly we can state that our dataset has almost the same average BMI for smoking and not smoking patients. There is a widely known opinion that smokers usually are more skinny persons than non-smokers. That could be interesting to do research about that later.  "
   ]
  },
  {
   "cell_type": "markdown",
   "metadata": {},
   "source": [
    "**Now we are going to determine the most influencing the US Insurance Cost Value parameter.**\n",
    "\n",
    "In our previous analysis, we stated that our dataset has evenly distributed data. Of course, the Southeast region group has about 12% more representatives, but we also stated that the Average Insurance costs by region are almost the same. So the parameter of the location of patients does not influence the US Insurance Cost.\n",
    "Let us check other parameters and see how the Average Cost of Insurance is distributed by them."
   ]
  },
  {
   "cell_type": "code",
   "execution_count": 23,
   "metadata": {},
   "outputs": [
    {
     "name": "stdout",
     "output_type": "stream",
     "text": [
      "The Average Insurance Cost by the age group:\n",
      " from 18 to 25 years old: $13760.67\n",
      " from 26 to 33 years old: $12549.25\n",
      " from 34 to 41 years old: $13406.59\n",
      " from 42 to 49 years old: $12533.43\n",
      " from 50 to 57 years old: $13972.67\n",
      " from 58 to 64 years old: $13204.5\n"
     ]
    }
   ],
   "source": [
    "# Average cost by age (min age is 18, max age is 64)\n",
    "# Let us make 8 age groups: 18-25, 26-33, 34-41, 42-49, 50-57, 58-64\n",
    "\n",
    "average_cost_by_age = {25: 0.0, 33: 0.0, 41: 0.0 , 49: 0.0, 57: 0.0, 64: 0.0}\n",
    "age_prev = 17\n",
    "print(\"The Average Insurance Cost by the age group:\")\n",
    "for upper_age in average_cost_by_age:\n",
    "# use list comprehension with condition to select requred age in data        \n",
    "    t_list = [val for age, val in zip(insurance_costs_dictionary['age'],insurance_costs_dictionary['charges']) if age > age_prev and age <= upper_age]\n",
    "    average_cost_by_age[upper_age] = round(total_sum(t_list)/len(t_list), 2)\n",
    "    print(\" from {} to {} years old: ${}\".format(age_prev+1, upper_age, average_cost_by_age[upper_age]))\n",
    "    age_prev = upper_age\n",
    "    "
   ]
  },
  {
   "cell_type": "code",
   "execution_count": 24,
   "metadata": {},
   "outputs": [
    {
     "name": "stdout",
     "output_type": "stream",
     "text": [
      "The Average Cost for:\n",
      " Males: $13956.75\n",
      " Females: $12569.58\n"
     ]
    }
   ],
   "source": [
    "# The average cost by sex \n",
    "\n",
    "average_cost_by_sex = {'male': 0.0, 'female': 0.0}\n",
    "# use list comprehension with condition to select requred sex in data    \n",
    "average_cost_by_sex['male'] = round(total_sum([val for sex, val in zip(insurance_costs_dictionary['sex'],insurance_costs_dictionary['charges']) if sex == 'male'])/male_patients, 2)\n",
    "average_cost_by_sex['female'] = round(total_sum([val for sex, val in zip(insurance_costs_dictionary['sex'],insurance_costs_dictionary['charges']) if sex == 'female'])/female_patients, 2)\n",
    "\n",
    "print(\"The Average Cost for:\")\n",
    "for sex in average_cost_by_sex : print(\" {}s: ${}\".format(sex.title(), average_cost_by_sex[sex]))\n"
   ]
  },
  {
   "cell_type": "code",
   "execution_count": 25,
   "metadata": {},
   "outputs": [
    {
     "name": "stdout",
     "output_type": "stream",
     "text": [
      "The Average Insurance Cost by the BMI scale:\n",
      "    Underweight: BMI 0.0 - 18.5: $8657.62\n",
      "  Normal weight: BMI 18.5 - 24.9: $10404.9\n",
      "     Overweight: BMI 24.9 - 29.9: $11006.81\n",
      "          Obese: BMI 29.9 - 34.9: $14217.62\n",
      " Extremly obese: BMI 34.9 - 99.9: $17076.96\n"
     ]
    }
   ],
   "source": [
    "# Average cost by BMI (BMI scale: Underweight: 0-18.5; Normal weight: 18.5-24.9; Overweight: 25-29.9; Obese: 30-34.9; Extremly obese: more than 35)\n",
    "\n",
    "average_cost_by_bmi = {'18.5': ['   Underweight', 0.0], '24.9': [' Normal weight', 0.0], '29.9': ['    Overweight', 0.0] , '34.9': ['         Obese', 0.0], '99.9': ['Extremly obese', 0.0]}\n",
    "bmi_prev = 0.0\n",
    "print(\"The Average Insurance Cost by the BMI scale:\")\n",
    "for upper_bmi in average_cost_by_bmi:\n",
    "# use list comprehension with condition to select requred BMI in data        \n",
    "    t_list = [val for bmi, val in zip(insurance_costs_dictionary['bmi'],insurance_costs_dictionary['charges']) if bmi > bmi_prev and bmi <= float(upper_bmi)]\n",
    "    average_cost_by_bmi[upper_bmi][1] = round(total_sum(t_list)/len(t_list), 2)\n",
    "    print(\" {}: BMI {} - {}: ${}\".format(average_cost_by_bmi[upper_bmi][0], bmi_prev, upper_bmi, average_cost_by_bmi[upper_bmi][1]))\n",
    "    bmi_prev = float(upper_bmi)\n",
    "    "
   ]
  },
  {
   "cell_type": "code",
   "execution_count": 26,
   "metadata": {},
   "outputs": [
    {
     "name": "stdout",
     "output_type": "stream",
     "text": [
      "The Average Insurance Cost by the number of children:\n",
      " 0 children: $12365.98\n",
      " 1 children: $12731.17\n",
      " 2 children: $15073.56\n",
      " 3 children: $15355.32\n",
      " 4 children: $13850.66\n",
      " 5 children: $8786.04\n"
     ]
    }
   ],
   "source": [
    "# Average cost by number of children (min 0, max 5)\n",
    "\n",
    "average_cost_by_childs = {0: 0.0, 1: 0.0, 2: 0.0 , 3: 0.0, 4: 0.0, 5: 0.0}\n",
    "\n",
    "print(\"The Average Insurance Cost by the number of children:\")\n",
    "for childs in average_cost_by_childs:\n",
    "# use list comprehension with condition to select requred number of children in data        \n",
    "    t_list = [val for children, val in zip(insurance_costs_dictionary['children'],insurance_costs_dictionary['charges']) if children == childs]\n",
    "    average_cost_by_childs[childs] = round(total_sum(t_list)/len(t_list), 2)\n",
    "    print(\" {} children: ${}\".format(childs, average_cost_by_childs[childs]))\n"
   ]
  },
  {
   "cell_type": "code",
   "execution_count": 27,
   "metadata": {},
   "outputs": [
    {
     "name": "stdout",
     "output_type": "stream",
     "text": [
      "The Average Cost for:\n",
      " Non-Smokers: $8434.27\n",
      " Smokers: $32050.23\n"
     ]
    }
   ],
   "source": [
    "# The average cost by smoker\n",
    "\n",
    "average_cost_by_smoker = {'Non-Smoker': 0.0, 'Smoker': 0.0}\n",
    "# use list comprehension with condition to select if it is smoker or not in data \n",
    "average_cost_by_smoker['Non-Smoker'] = round(total_sum([val for smoker, val in zip(insurance_costs_dictionary['smoker'],insurance_costs_dictionary['charges']) if not smoker])/non_smokers_number, 2)\n",
    "average_cost_by_smoker['Smoker'] = round(total_sum([val for smoker, val in zip(insurance_costs_dictionary['smoker'],insurance_costs_dictionary['charges']) if smoker])/smokers_number, 2)\n",
    "\n",
    "print(\"The Average Cost for:\")\n",
    "for smoker in average_cost_by_smoker : print(\" {}s: ${}\".format(smoker.title(), average_cost_by_smoker[smoker]))\n"
   ]
  },
  {
   "cell_type": "markdown",
   "metadata": {},
   "source": [
    "**From the analysis made, we can conclude:**\n",
    "1. The US Average Insurance Cost is growing with the growing age but it is still near the Total Average Cost. We can say that the Age parameter IS NOT the most influencing parameter.\n",
    "2. The US Average Insurance Costs of each Sex group are near the Total Average Cost. So we can say that the Sex parameter IS NOT the most influencing parameter.\n",
    "3. The US Average Insurance Cost is growing with the growing BMI, but it is still near the Total Average Cost. We can say that the BMI parameter IS NOT the most influencing parameter. But we must add that if the BMI of the patient is less than 18.5 (Underweight group), the US Average Insurance Cost has a value of about USD 4600 less than the Total Average Cost, and this is already a notable difference.\n",
    "4. The US Average Insurance Costs calculated by the number of children are near the Total Average Cost. So we can say that the number of Children IS NOT the most influencing parameter. But we must add that if the patient has five children or more, the US Average Insurance Cost has a value of about USD 4500 less than the Total Average Cost, and this is already a notable difference.\n",
    "5. The US Average Insurance Cost of Smoking patients is much higher than the Total Average Cost. The difference is about USD 18800. Also, The Average Cost of Non-Smoking patients is about USD4800 less than the Total Average Cost. So from the data given, we can definitely say that the Smoker parameter IS THE MOST influencing parameter.\n",
    "\n",
    "\n",
    "\n",
    "**_Our brief analysis is done. We have studied the dataset and made exciting conclusions. The more extensive and updated dataset makes it possible to find more correlations and exciting patterns and make other valuable conclusions._**  \n"
   ]
  }
 ],
 "metadata": {
  "kernelspec": {
   "display_name": "Python 3 (ipykernel)",
   "language": "python",
   "name": "python3"
  },
  "language_info": {
   "codemirror_mode": {
    "name": "ipython",
    "version": 3
   },
   "file_extension": ".py",
   "mimetype": "text/x-python",
   "name": "python",
   "nbconvert_exporter": "python",
   "pygments_lexer": "ipython3",
   "version": "3.10.9"
  }
 },
 "nbformat": 4,
 "nbformat_minor": 4
}
