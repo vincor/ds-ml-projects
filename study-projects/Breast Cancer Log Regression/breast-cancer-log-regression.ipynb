{
 "cells": [
  {
   "cell_type": "code",
   "execution_count": 1,
   "id": "310bed04",
   "metadata": {},
   "outputs": [
    {
     "name": "stdout",
     "output_type": "stream",
     "text": [
      "{'C': 1.0, 'class_weight': None, 'dual': False, 'fit_intercept': True, 'intercept_scaling': 1, 'l1_ratio': None, 'max_iter': 100, 'multi_class': 'auto', 'n_jobs': None, 'penalty': None, 'random_state': None, 'solver': 'lbfgs', 'tol': 0.0001, 'verbose': 0, 'warm_start': False}\n",
      "[[ 1.07991529  0.28744917 30.96010078 29.97251649]] [-30.15566409]\n",
      "Test set accuracy:\t0.9064327485380117\n",
      "Test set precision:\t0.8507462686567164\n",
      "Test set recall:\t0.9047619047619048\n",
      "Test set f1-score:\t0.8769230769230769\n",
      "            predicted no  predicted yes\n",
      "actual no             98             10\n",
      "actual yes             6             57\n"
     ]
    }
   ],
   "source": [
    "import pandas as pd\n",
    "import numpy as np\n",
    "import matplotlib.pyplot as plt\n",
    "import seaborn as sns\n",
    "\n",
    "#Import models from scikit learn module:\n",
    "from sklearn.model_selection import train_test_split\n",
    "from sklearn.linear_model import LogisticRegression\n",
    "from sklearn.metrics import confusion_matrix, classification_report, accuracy_score, precision_score, recall_score, f1_score\n",
    "\n",
    "#https://www.kaggle.com/uciml/breast-cancer-wisconsin-data\n",
    "df = pd.read_csv('breast_cancer_data.csv')\n",
    "#encode malignant as 1, benign as 0\n",
    "df['diagnosis'] = df['diagnosis'].replace({'M':1,'B':0})\n",
    "predictor_var = ['radius_mean', 'texture_mean', \n",
    "                  'compactness_mean',\n",
    "                 'symmetry_mean',]\n",
    "outcome_var='diagnosis'\n",
    "x_train, x_test, y_train, y_test = train_test_split(df[predictor_var], df[outcome_var], random_state=0, test_size=0.3)\n",
    "\n",
    "#1. Fit a Logsitic Regression model with the specified hyperparameters\n",
    "log_reg = LogisticRegression(penalty=None, fit_intercept=True)\n",
    "print(log_reg.get_params())\n",
    "\n",
    "\n",
    "#2. Fit the model to training data and obtain cofficient and intercept\n",
    "log_reg.fit(x_train, y_train)\n",
    "coefficients = log_reg.coef_\n",
    "intercept = log_reg.intercept_\n",
    "print(coefficients, intercept)\n",
    "\n",
    "\n",
    "#3. Calculate the accuracy, precision, recall, and f1-score on the testing data\n",
    "y_pred = log_reg.predict(x_test)\n",
    "accuracy = accuracy_score(y_test, y_pred)\n",
    "precision = precision_score(y_test, y_pred)\n",
    "recall = recall_score(y_test, y_pred)\n",
    "f1 = f1_score(y_test, y_pred)\n",
    "\n",
    "print(f'Test set accuracy:\\t{accuracy}')\n",
    "print(f'Test set precision:\\t{precision}')\n",
    "print(f'Test set recall:\\t{recall}')\n",
    "print(f'Test set f1-score:\\t{f1}')\n",
    "\n",
    "#4. Print the confusion matrix\n",
    "test_conf_matrix = pd.DataFrame(\n",
    "    confusion_matrix(y_test, y_pred), \n",
    "    index=['actual no', 'actual yes'], \n",
    "    columns=['predicted no', 'predicted yes'])\n",
    "\n",
    "print(test_conf_matrix)\n"
   ]
  }
 ],
 "metadata": {
  "kernelspec": {
   "display_name": "Python 3 (ipykernel)",
   "language": "python",
   "name": "python3"
  },
  "language_info": {
   "codemirror_mode": {
    "name": "ipython",
    "version": 3
   },
   "file_extension": ".py",
   "mimetype": "text/x-python",
   "name": "python",
   "nbconvert_exporter": "python",
   "pygments_lexer": "ipython3",
   "version": "3.10.13"
  }
 },
 "nbformat": 4,
 "nbformat_minor": 5
}
