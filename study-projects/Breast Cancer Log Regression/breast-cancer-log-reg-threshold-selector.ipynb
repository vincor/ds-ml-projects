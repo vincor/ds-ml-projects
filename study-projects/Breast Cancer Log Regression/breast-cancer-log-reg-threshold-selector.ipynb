{
 "cells": [
  {
   "cell_type": "code",
   "execution_count": 2,
   "id": "f0e82117",
   "metadata": {},
   "outputs": [
    {
     "name": "stdout",
     "output_type": "stream",
     "text": [
      "True\n",
      "Confusion Matrix: Threshold 50%\n",
      "[[98 10]\n",
      " [ 6 57]]\n",
      "Confusion Matrix: Threshold 25%\n",
      "[[94 14]\n",
      " [ 2 61]]\n",
      "Confusion Matrix: Threshold 75%\n",
      "[[104   4]\n",
      " [ 11  52]]\n",
      "0.22222222222222224\n"
     ]
    }
   ],
   "source": [
    "import pandas as pd\n",
    "import numpy as np\n",
    "\n",
    "#Import models from scikit learn module:\n",
    "from sklearn.model_selection import train_test_split\n",
    "from sklearn.linear_model import LogisticRegression\n",
    "from sklearn.metrics import confusion_matrix\n",
    "\n",
    "df = pd.read_csv('breast_cancer_data.csv')\n",
    "#encode malignant as 1, benign as 0\n",
    "df['diagnosis'] = df['diagnosis'].replace({'M':1,'B':0})\n",
    "predictor_var = ['radius_mean', 'texture_mean', \n",
    "                  'compactness_mean',\n",
    "                 'symmetry_mean',]\n",
    "outcome_var='diagnosis'\n",
    "x_train, x_test, y_train, y_test = train_test_split(df[predictor_var], df[outcome_var], random_state=0, test_size=0.3)\n",
    "\n",
    "\n",
    "log_reg = LogisticRegression(penalty=None, fit_intercept=True,tol=0.0000001,solver='newton-cg')\n",
    "log_reg.fit(x_train, y_train)\n",
    "y_pred = log_reg.predict(x_test)\n",
    "y_pred_prob = log_reg.predict_proba(x_test)\n",
    "\n",
    "\n",
    "\n",
    "#Using the predicted probabilities to get the predicted class\n",
    "y_pred_class = (y_pred_prob[:,1]>0.5)*1.0\n",
    "#1 Check if it's the same as y_pred\n",
    "diff = np.array_equal(y_pred_class, y_pred)\n",
    "print(diff)\n",
    "\n",
    "## 2. Print the confusion matrix\n",
    "print(\"Confusion Matrix: Threshold 50%\")\n",
    "cm_50 = confusion_matrix( y_test, y_pred_class)\n",
    "print(cm_50)\n",
    "\n",
    "##3 Confusion matrices for thresholds of 0.25 and 0.75\n",
    "print(\"Confusion Matrix: Threshold 25%\")\n",
    "y_pred_class = (y_pred_prob[:,1]>0.25)*1.0\n",
    "cm_25 = confusion_matrix( y_test, y_pred_class)\n",
    "print(cm_25)\n",
    "\n",
    "print(\"Confusion Matrix: Threshold 75%\")\n",
    "y_pred_class = (y_pred_prob[:,1]>0.75)*1.0\n",
    "cm_75 = confusion_matrix( y_test, y_pred_class)\n",
    "print(cm_75)\n",
    "\n",
    "#4. Choosing the right threshold for a question\n",
    "\n",
    "#Array of thresholds\n",
    "thresh = np.linspace(0,1,100)\n",
    "false_negatives = []\n",
    "\n",
    "for t in thresh:\n",
    "  cm = confusion_matrix(y_test, (y_pred_prob[:,1]>t)*1.0)\n",
    "  false_negatives.append(cm[1][0])\n",
    "\n",
    "#Suggested variant: thresh_choice = thresh[np.argmax(np.array(false_negatives)>=2)]\n",
    "thresh_choice = thresh[false_negatives.index(2)]\n",
    "\n",
    "print(thresh_choice)\n",
    "\n",
    "\n",
    "\n"
   ]
  },
  {
   "cell_type": "code",
   "execution_count": null,
   "id": "2df5972e",
   "metadata": {},
   "outputs": [],
   "source": []
  }
 ],
 "metadata": {
  "kernelspec": {
   "display_name": "Python 3 (ipykernel)",
   "language": "python",
   "name": "python3"
  },
  "language_info": {
   "codemirror_mode": {
    "name": "ipython",
    "version": 3
   },
   "file_extension": ".py",
   "mimetype": "text/x-python",
   "name": "python",
   "nbconvert_exporter": "python",
   "pygments_lexer": "ipython3",
   "version": "3.10.13"
  }
 },
 "nbformat": 4,
 "nbformat_minor": 5
}
