{
 "cells": [
  {
   "cell_type": "markdown",
   "id": "6186045c",
   "metadata": {},
   "source": [
    "## Build a Book Recommender System\n",
    "\n",
    "Recommender systems are used in all sorts of organizations to help users make decisions and, for many companies, earn more revenue. In this project, we will build a book recommender system for Books’R’Us using Surprise.\n",
    "\n",
    "Books’R’Us is a national bookstore chain that sells books of all sorts to people all over the country. They recently have built their website, and now want to add a book recommender system to their site.\n",
    "\n",
    "We will prepare and train the recommender system using book review data left on their site.\n",
    "This data has been put together in a Pandas DataFrame called **book_ratings**."
   ]
  },
  {
   "cell_type": "code",
   "execution_count": 2,
   "id": "6f18484c",
   "metadata": {},
   "outputs": [
    {
     "name": "stdout",
     "output_type": "stream",
     "text": [
      "                            user_id   book_id  \\\n",
      "0  d089c9b670c0b0b339353aebbace46a1   7686667   \n",
      "1  6dcb2c16e12a41ae0c6c38e9d46f3292  18073066   \n",
      "2  244e0ce681148a7586d7746676093ce9  13610986   \n",
      "3  73fcc25ff29f8b73b3a7578aec846394  27274343   \n",
      "4  f8880e158a163388a990b64fec7df300  11614718   \n",
      "\n",
      "                          review_id  rating  \\\n",
      "0  3337e0e75701f7f682de11638ccdc60c       3   \n",
      "1  7201aa3c1161f2bad81258b6d4686c16       5   \n",
      "2  07a203f87bfe1b65ff58774667f6f80d       5   \n",
      "3  8be2d87b07098c16f9742020ec459383       1   \n",
      "4  a29c4ba03e33ad073a414ac775266c5f       4   \n",
      "\n",
      "                                         review_text  \\\n",
      "0  Like Matched, this book felt like it was echoi...   \n",
      "1  WOW again! 4,5 Stars \\r\\n So i wont forget to ...   \n",
      "2  The second novel was hot & heavy. Not only in ...   \n",
      "3  What a maddening waste of time. And I unfortun...   \n",
      "4  4.5 stars! \\r\\n This was an awesome read! \\r\\n...   \n",
      "\n",
      "                       date_added                    date_updated  \\\n",
      "0  Fri Apr 29 14:45:32 -0700 2011  Mon Feb 02 12:57:57 -0800 2015   \n",
      "1  Thu Aug 01 02:15:18 -0700 2013  Mon Nov 18 14:49:26 -0800 2013   \n",
      "2  Sun Nov 23 18:17:50 -0800 2014  Sat May 16 20:34:19 -0700 2015   \n",
      "3  Mon Oct 31 08:29:06 -0700 2016  Wed Apr 26 16:06:28 -0700 2017   \n",
      "4  Tue Mar 26 10:55:30 -0700 2013  Mon Sep 08 09:57:05 -0700 2014   \n",
      "\n",
      "                          read_at                      started_at  n_votes  \\\n",
      "0  Sat Jun 18 00:00:00 -0700 2011  Thu May 19 00:00:00 -0700 2011        0   \n",
      "1  Mon Aug 19 00:00:00 -0700 2013  Mon Aug 12 00:00:00 -0700 2013       16   \n",
      "2  Fri Dec 19 00:00:00 -0800 2014  Sun Nov 23 00:00:00 -0800 2014        0   \n",
      "3  Wed Apr 26 16:06:28 -0700 2017  Sun Apr 23 00:00:00 -0700 2017        0   \n",
      "4  Sun Apr 20 09:26:41 -0700 2014  Fri Apr 18 00:00:00 -0700 2014        0   \n",
      "\n",
      "   n_comments  \n",
      "0           0  \n",
      "1          14  \n",
      "2           0  \n",
      "3           1  \n",
      "4           0  \n"
     ]
    }
   ],
   "source": [
    "import pandas as pd\n",
    "from surprise import Reader\n",
    "\n",
    "book_ratings = pd.read_csv('goodreads_ratings.csv')\n",
    "print(book_ratings.head())\n"
   ]
  },
  {
   "cell_type": "markdown",
   "id": "f1208155",
   "metadata": {},
   "source": [
    "#### 1. Print dataset size and examine column data types"
   ]
  },
  {
   "cell_type": "code",
   "execution_count": 3,
   "id": "e3998411",
   "metadata": {},
   "outputs": [
    {
     "name": "stdout",
     "output_type": "stream",
     "text": [
      "            book_id       rating      n_votes   n_comments\n",
      "count  3.500000e+03  3500.000000  3500.000000  3500.000000\n",
      "mean   1.314011e+07     3.686000     3.038857     0.754286\n",
      "std    9.143899e+06     1.251911    15.508018     3.474921\n",
      "min    1.000000e+00     0.000000     0.000000     0.000000\n",
      "25%    6.380978e+06     3.000000     0.000000     0.000000\n",
      "50%    1.320679e+07     4.000000     0.000000     0.000000\n",
      "75%    1.928702e+07     5.000000     1.000000     0.000000\n",
      "max    3.589888e+07     5.000000   431.000000    77.000000\n",
      "<class 'pandas.core.frame.DataFrame'>\n",
      "RangeIndex: 3500 entries, 0 to 3499\n",
      "Data columns (total 11 columns):\n",
      " #   Column        Non-Null Count  Dtype \n",
      "---  ------        --------------  ----- \n",
      " 0   user_id       3500 non-null   object\n",
      " 1   book_id       3500 non-null   int64 \n",
      " 2   review_id     3500 non-null   object\n",
      " 3   rating        3500 non-null   int64 \n",
      " 4   review_text   3500 non-null   object\n",
      " 5   date_added    3500 non-null   object\n",
      " 6   date_updated  3500 non-null   object\n",
      " 7   read_at       3167 non-null   object\n",
      " 8   started_at    2395 non-null   object\n",
      " 9   n_votes       3500 non-null   int64 \n",
      " 10  n_comments    3500 non-null   int64 \n",
      "dtypes: int64(4), object(7)\n",
      "memory usage: 300.9+ KB\n",
      "None\n"
     ]
    }
   ],
   "source": [
    "print(book_ratings.describe())\n",
    "print(book_ratings.info())"
   ]
  },
  {
   "cell_type": "markdown",
   "id": "ffed82b7",
   "metadata": {},
   "source": [
    "#### 2. In order to understand these ratings, let’s look at a count of all the ratings in the data."
   ]
  },
  {
   "cell_type": "code",
   "execution_count": 4,
   "id": "08f51638",
   "metadata": {},
   "outputs": [
    {
     "name": "stdout",
     "output_type": "stream",
     "text": [
      "rating\n",
      "4    1278\n",
      "5    1001\n",
      "3     707\n",
      "2     269\n",
      "1     125\n",
      "0     120\n",
      "Name: count, dtype: int64\n"
     ]
    }
   ],
   "source": [
    "print(book_ratings.rating.value_counts())"
   ]
  },
  {
   "cell_type": "markdown",
   "id": "1a8a3188",
   "metadata": {},
   "source": [
    "#### 3. Unfortunately, it appears we have some data where the ratings are 0. The ratings on the website only go from 1 to 5 inclusive. We filter out all ratings that are not in this range."
   ]
  },
  {
   "cell_type": "code",
   "execution_count": 5,
   "id": "5ef8674a",
   "metadata": {},
   "outputs": [],
   "source": [
    "book_ratings = book_ratings[book_ratings.rating!=0]"
   ]
  },
  {
   "cell_type": "markdown",
   "id": "04096b36",
   "metadata": {},
   "source": [
    "#### 4. We need to prepare this data for use in Surprise. First, we build a Surprise reader Object that utilizes the rating scale established above. "
   ]
  },
  {
   "cell_type": "code",
   "execution_count": 6,
   "id": "7f6bfcdd",
   "metadata": {},
   "outputs": [],
   "source": [
    "from surprise import Reader\n",
    "reader = Reader(rating_scale=(1, 5))"
   ]
  },
  {
   "cell_type": "markdown",
   "id": "389019b8",
   "metadata": {},
   "source": [
    "#### 5. Load book_ratings into a Surprise Dataset so it can be used with Surprise‘s algorithms."
   ]
  },
  {
   "cell_type": "code",
   "execution_count": 7,
   "id": "31aae40c",
   "metadata": {},
   "outputs": [],
   "source": [
    "from surprise import Dataset\n",
    "rec_data = Dataset.load_from_df(book_ratings[['user_id',\n",
    "                                              'book_id',\n",
    "                                              'rating']],\n",
    "                                reader)"
   ]
  },
  {
   "cell_type": "markdown",
   "id": "7c35265d",
   "metadata": {},
   "source": [
    "#### 6. We have a dataset that is ready for use in Surprise. We split the data, and put 80% of the data into a training set, and 20% into a test set. We set a random_state of 7 to improve reproducibility."
   ]
  },
  {
   "cell_type": "code",
   "execution_count": 8,
   "id": "711b426a",
   "metadata": {},
   "outputs": [],
   "source": [
    "from surprise.model_selection import train_test_split\n",
    "trainset, testset = train_test_split(rec_data, test_size=.2, random_state=7)"
   ]
  },
  {
   "cell_type": "markdown",
   "id": "1fd36f03",
   "metadata": {},
   "source": [
    "#### 7. We can finally train a recommender system. We use the KNNBasic from Surprise to train a collaborative filter using the training set."
   ]
  },
  {
   "cell_type": "code",
   "execution_count": 9,
   "id": "10812d88",
   "metadata": {},
   "outputs": [
    {
     "name": "stdout",
     "output_type": "stream",
     "text": [
      "Computing the msd similarity matrix...\n",
      "Done computing similarity matrix.\n"
     ]
    },
    {
     "data": {
      "text/plain": [
       "<surprise.prediction_algorithms.knns.KNNBasic at 0x1cffb503280>"
      ]
     },
     "execution_count": 9,
     "metadata": {},
     "output_type": "execute_result"
    }
   ],
   "source": [
    "from surprise import KNNBasic\n",
    "knn = KNNBasic()\n",
    "knn.fit(trainset)"
   ]
  },
  {
   "cell_type": "markdown",
   "id": "d20b5092",
   "metadata": {},
   "source": [
    "#### 8. We calculate the RMSE of the recommender system using the testset data."
   ]
  },
  {
   "cell_type": "code",
   "execution_count": 10,
   "id": "0a235381",
   "metadata": {},
   "outputs": [
    {
     "name": "stdout",
     "output_type": "stream",
     "text": [
      "RMSE: 1.1105\n"
     ]
    },
    {
     "data": {
      "text/plain": [
       "1.110471008157185"
      ]
     },
     "execution_count": 10,
     "metadata": {},
     "output_type": "execute_result"
    }
   ],
   "source": [
    "from surprise import accuracy\n",
    "predictions = knn.test(testset)\n",
    "accuracy.rmse(predictions)"
   ]
  },
  {
   "cell_type": "markdown",
   "id": "d655160d",
   "metadata": {},
   "source": [
    "#### 9.We can get recommendations now.\n",
    "\n",
    "User 8842281e1d1347389f2ab93d60773d4d gave the science-fiction book “The Three-Body Problem” (book_id=18245960) a 5.\n",
    "What rating does the algorithm predict this user will give the science-fiction book “The Martian” (book_id=18007564)?"
   ]
  },
  {
   "cell_type": "code",
   "execution_count": 11,
   "id": "95a8d14f",
   "metadata": {},
   "outputs": [
    {
     "name": "stdout",
     "output_type": "stream",
     "text": [
      "3.8250739644970415\n"
     ]
    }
   ],
   "source": [
    "print(knn.predict('8842281e1d1347389f2ab93d60773d4d', '18007564').est)"
   ]
  },
  {
   "cell_type": "markdown",
   "id": "7e168fa0",
   "metadata": {},
   "source": [
    "### Conclusion\n",
    "We have successfully built a working prototype for a recommender system.\n",
    "For further study, we can try adjusting the hyperparameters of the collaborative filter we built, and see if we can reduce the RMSE of the collaborative filter we built above."
   ]
  }
 ],
 "metadata": {
  "kernelspec": {
   "display_name": "Python 3 (ipykernel)",
   "language": "python",
   "name": "python3"
  },
  "language_info": {
   "codemirror_mode": {
    "name": "ipython",
    "version": 3
   },
   "file_extension": ".py",
   "mimetype": "text/x-python",
   "name": "python",
   "nbconvert_exporter": "python",
   "pygments_lexer": "ipython3",
   "version": "3.10.13"
  }
 },
 "nbformat": 4,
 "nbformat_minor": 5
}
