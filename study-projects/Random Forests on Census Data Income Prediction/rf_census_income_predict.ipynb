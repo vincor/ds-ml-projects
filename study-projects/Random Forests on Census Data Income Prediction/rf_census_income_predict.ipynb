{
 "cells": [
  {
   "cell_type": "markdown",
   "id": "14556797",
   "metadata": {},
   "source": [
    "## Random Forests Project\n",
    "In this project, we will be using a dataset containing census information from UCI’s Machine Learning Repository.\n",
    "\n",
    "By using this census data with a random forest, we will try to predict whether or not a person makes more than $50,000.\n",
    "\n",
    "Datasets\n",
    "The original data set is available at the UCI Machine Learning Repository:\n",
    "\n",
    "https://archive.ics.uci.edu/ml/datasets/census+income\n",
    "\n",
    "Our input and output features of interest are:\n",
    "\n",
    "- age: continuous\n",
    "- workclass: Private, Self-emp-not-inc, Self-emp-inc, Federal-gov, Local-gov, State-gov, Without-pay, Never-worked.\n",
    "- education: Bachelors, Some-college, 11th, HS-grad, Prof-school, Assoc-acdm, Assoc-voc, 9th, 7th-8th, 12th, Masters, 1st-4th, 10th, Doctorate, 5th-6th, Preschool\n",
    "- race: White, Asian-Pac-Islander, Amer-Indian-Eskimo, Other, Black\n",
    "- sex: Female, Male\n",
    "- capital-gain: continuous\n",
    "- capital-loss: continuous\n",
    "- hours-per-week: continuous\n",
    "- native country: discrete\n",
    "- income: discrete, >50K, <=50K"
   ]
  },
  {
   "cell_type": "code",
   "execution_count": 1,
   "id": "45c126f6",
   "metadata": {},
   "outputs": [
    {
     "name": "stdout",
     "output_type": "stream",
     "text": [
      "<class 'pandas.core.frame.DataFrame'>\n",
      "RangeIndex: 32561 entries, 0 to 32560\n",
      "Data columns (total 15 columns):\n",
      " #   Column          Non-Null Count  Dtype \n",
      "---  ------          --------------  ----- \n",
      " 0   age             32561 non-null  int64 \n",
      " 1   workclass       32561 non-null  object\n",
      " 2   fnlwgt          32561 non-null  int64 \n",
      " 3   education       32561 non-null  object\n",
      " 4   education-num   32561 non-null  int64 \n",
      " 5   marital-status  32561 non-null  object\n",
      " 6   occupation      32561 non-null  object\n",
      " 7   relationship    32561 non-null  object\n",
      " 8   race            32561 non-null  object\n",
      " 9   sex             32561 non-null  object\n",
      " 10  capital-gain    32561 non-null  int64 \n",
      " 11  capital-loss    32561 non-null  int64 \n",
      " 12  hours-per-week  32561 non-null  int64 \n",
      " 13  native-country  32561 non-null  object\n",
      " 14  income          32561 non-null  object\n",
      "dtypes: int64(6), object(9)\n",
      "memory usage: 3.7+ MB\n",
      "None\n"
     ]
    },
    {
     "data": {
      "text/html": [
       "<div>\n",
       "<style scoped>\n",
       "    .dataframe tbody tr th:only-of-type {\n",
       "        vertical-align: middle;\n",
       "    }\n",
       "\n",
       "    .dataframe tbody tr th {\n",
       "        vertical-align: top;\n",
       "    }\n",
       "\n",
       "    .dataframe thead th {\n",
       "        text-align: right;\n",
       "    }\n",
       "</style>\n",
       "<table border=\"1\" class=\"dataframe\">\n",
       "  <thead>\n",
       "    <tr style=\"text-align: right;\">\n",
       "      <th></th>\n",
       "      <th>age</th>\n",
       "      <th>workclass</th>\n",
       "      <th>fnlwgt</th>\n",
       "      <th>education</th>\n",
       "      <th>education-num</th>\n",
       "      <th>marital-status</th>\n",
       "      <th>occupation</th>\n",
       "      <th>relationship</th>\n",
       "      <th>race</th>\n",
       "      <th>sex</th>\n",
       "      <th>capital-gain</th>\n",
       "      <th>capital-loss</th>\n",
       "      <th>hours-per-week</th>\n",
       "      <th>native-country</th>\n",
       "      <th>income</th>\n",
       "    </tr>\n",
       "  </thead>\n",
       "  <tbody>\n",
       "    <tr>\n",
       "      <th>0</th>\n",
       "      <td>39</td>\n",
       "      <td>State-gov</td>\n",
       "      <td>77516</td>\n",
       "      <td>Bachelors</td>\n",
       "      <td>13</td>\n",
       "      <td>Never-married</td>\n",
       "      <td>Adm-clerical</td>\n",
       "      <td>Not-in-family</td>\n",
       "      <td>White</td>\n",
       "      <td>Male</td>\n",
       "      <td>2174</td>\n",
       "      <td>0</td>\n",
       "      <td>40</td>\n",
       "      <td>United-States</td>\n",
       "      <td>&lt;=50K</td>\n",
       "    </tr>\n",
       "    <tr>\n",
       "      <th>1</th>\n",
       "      <td>50</td>\n",
       "      <td>Self-emp-not-inc</td>\n",
       "      <td>83311</td>\n",
       "      <td>Bachelors</td>\n",
       "      <td>13</td>\n",
       "      <td>Married-civ-spouse</td>\n",
       "      <td>Exec-managerial</td>\n",
       "      <td>Husband</td>\n",
       "      <td>White</td>\n",
       "      <td>Male</td>\n",
       "      <td>0</td>\n",
       "      <td>0</td>\n",
       "      <td>13</td>\n",
       "      <td>United-States</td>\n",
       "      <td>&lt;=50K</td>\n",
       "    </tr>\n",
       "    <tr>\n",
       "      <th>2</th>\n",
       "      <td>38</td>\n",
       "      <td>Private</td>\n",
       "      <td>215646</td>\n",
       "      <td>HS-grad</td>\n",
       "      <td>9</td>\n",
       "      <td>Divorced</td>\n",
       "      <td>Handlers-cleaners</td>\n",
       "      <td>Not-in-family</td>\n",
       "      <td>White</td>\n",
       "      <td>Male</td>\n",
       "      <td>0</td>\n",
       "      <td>0</td>\n",
       "      <td>40</td>\n",
       "      <td>United-States</td>\n",
       "      <td>&lt;=50K</td>\n",
       "    </tr>\n",
       "    <tr>\n",
       "      <th>3</th>\n",
       "      <td>53</td>\n",
       "      <td>Private</td>\n",
       "      <td>234721</td>\n",
       "      <td>11th</td>\n",
       "      <td>7</td>\n",
       "      <td>Married-civ-spouse</td>\n",
       "      <td>Handlers-cleaners</td>\n",
       "      <td>Husband</td>\n",
       "      <td>Black</td>\n",
       "      <td>Male</td>\n",
       "      <td>0</td>\n",
       "      <td>0</td>\n",
       "      <td>40</td>\n",
       "      <td>United-States</td>\n",
       "      <td>&lt;=50K</td>\n",
       "    </tr>\n",
       "    <tr>\n",
       "      <th>4</th>\n",
       "      <td>28</td>\n",
       "      <td>Private</td>\n",
       "      <td>338409</td>\n",
       "      <td>Bachelors</td>\n",
       "      <td>13</td>\n",
       "      <td>Married-civ-spouse</td>\n",
       "      <td>Prof-specialty</td>\n",
       "      <td>Wife</td>\n",
       "      <td>Black</td>\n",
       "      <td>Female</td>\n",
       "      <td>0</td>\n",
       "      <td>0</td>\n",
       "      <td>40</td>\n",
       "      <td>Cuba</td>\n",
       "      <td>&lt;=50K</td>\n",
       "    </tr>\n",
       "  </tbody>\n",
       "</table>\n",
       "</div>"
      ],
      "text/plain": [
       "   age          workclass  fnlwgt   education  education-num  \\\n",
       "0   39          State-gov   77516   Bachelors             13   \n",
       "1   50   Self-emp-not-inc   83311   Bachelors             13   \n",
       "2   38            Private  215646     HS-grad              9   \n",
       "3   53            Private  234721        11th              7   \n",
       "4   28            Private  338409   Bachelors             13   \n",
       "\n",
       "        marital-status          occupation    relationship    race      sex  \\\n",
       "0        Never-married        Adm-clerical   Not-in-family   White     Male   \n",
       "1   Married-civ-spouse     Exec-managerial         Husband   White     Male   \n",
       "2             Divorced   Handlers-cleaners   Not-in-family   White     Male   \n",
       "3   Married-civ-spouse   Handlers-cleaners         Husband   Black     Male   \n",
       "4   Married-civ-spouse      Prof-specialty            Wife   Black   Female   \n",
       "\n",
       "   capital-gain  capital-loss  hours-per-week  native-country  income  \n",
       "0          2174             0              40   United-States   <=50K  \n",
       "1             0             0              13   United-States   <=50K  \n",
       "2             0             0              40   United-States   <=50K  \n",
       "3             0             0              40   United-States   <=50K  \n",
       "4             0             0              40            Cuba   <=50K  "
      ]
     },
     "execution_count": 1,
     "metadata": {},
     "output_type": "execute_result"
    }
   ],
   "source": [
    "import pandas as pd\n",
    "import numpy as np\n",
    "import matplotlib.pyplot as plt\n",
    "import seaborn as sns\n",
    "\n",
    "#Import models from scikit learn module:\n",
    "from sklearn.model_selection import train_test_split\n",
    "from sklearn.tree import DecisionTreeClassifier\n",
    "from sklearn.ensemble import RandomForestClassifier, BaggingClassifier, RandomForestRegressor\n",
    "from sklearn import tree\n",
    "from sklearn.linear_model import LogisticRegression\n",
    "from sklearn.metrics import accuracy_score, precision_score, recall_score, f1_score, roc_auc_score\n",
    "\n",
    "col_names = ['age', 'workclass', 'fnlwgt','education', 'education-num', \n",
    "'marital-status', 'occupation', 'relationship', 'race', 'sex',\n",
    "'capital-gain','capital-loss', 'hours-per-week','native-country', 'income']\n",
    "df = pd.read_csv('adult.data', header=None, names = col_names)\n",
    "print(df.info())\n",
    "df.head()"
   ]
  },
  {
   "cell_type": "markdown",
   "id": "f76fd2a5",
   "metadata": {},
   "source": [
    "#### We will build a random forest classifier to predict the income category. \n",
    "1. First, take a look at the distribution of income values – what percentage of samples have incomes less than 50k and greater than 50k?"
   ]
  },
  {
   "cell_type": "code",
   "execution_count": 2,
   "id": "5a70194a",
   "metadata": {},
   "outputs": [
    {
     "data": {
      "text/plain": [
       "income\n",
       " <=50K    0.75919\n",
       " >50K     0.24081\n",
       "Name: proportion, dtype: float64"
      ]
     },
     "execution_count": 2,
     "metadata": {},
     "output_type": "execute_result"
    }
   ],
   "source": [
    "df.income.value_counts(normalize=True)"
   ]
  },
  {
   "cell_type": "markdown",
   "id": "c4bf6120",
   "metadata": {},
   "source": [
    "There’s a small problem with our data that is a little hard to catch — every string has an extra space at the start. For example, the first row’s native-country is “ United-States”, but we want it to be “United-States”."
   ]
  },
  {
   "cell_type": "code",
   "execution_count": 3,
   "id": "4926a139",
   "metadata": {},
   "outputs": [
    {
     "data": {
      "text/plain": [
       "array(['United-States', 'Cuba', 'Jamaica', 'India', '?', 'Mexico',\n",
       "       'South', 'Puerto-Rico', 'Honduras', 'England', 'Canada', 'Germany',\n",
       "       'Iran', 'Philippines', 'Italy', 'Poland', 'Columbia', 'Cambodia',\n",
       "       'Thailand', 'Ecuador', 'Laos', 'Taiwan', 'Haiti', 'Portugal',\n",
       "       'Dominican-Republic', 'El-Salvador', 'France', 'Guatemala',\n",
       "       'China', 'Japan', 'Yugoslavia', 'Peru',\n",
       "       'Outlying-US(Guam-USVI-etc)', 'Scotland', 'Trinadad&Tobago',\n",
       "       'Greece', 'Nicaragua', 'Vietnam', 'Hong', 'Ireland', 'Hungary',\n",
       "       'Holand-Netherlands'], dtype=object)"
      ]
     },
     "execution_count": 3,
     "metadata": {},
     "output_type": "execute_result"
    }
   ],
   "source": [
    "for col in df.select_dtypes(include=['object']).columns:\n",
    "    df[col] = df[col].str.strip()\n",
    "df['native-country'].unique()    "
   ]
  },
  {
   "cell_type": "markdown",
   "id": "1b0e379c",
   "metadata": {},
   "source": [
    "2. Let us choose features from the list of interest to start"
   ]
  },
  {
   "cell_type": "code",
   "execution_count": 4,
   "id": "e974729f",
   "metadata": {},
   "outputs": [],
   "source": [
    "features_list = ['age', 'workclass', 'marital-status', 'occupation', 'capital-gain', 'capital-loss', 'hours-per-week', 'sex','race']"
   ]
  },
  {
   "cell_type": "markdown",
   "id": "7d8acc91",
   "metadata": {},
   "source": [
    "3. Create a features dataframe X. This should include only features in the list feature_cols and convert categorical features to dummy variables."
   ]
  },
  {
   "cell_type": "code",
   "execution_count": 5,
   "id": "5c39ee7b",
   "metadata": {},
   "outputs": [
    {
     "data": {
      "text/html": [
       "<div>\n",
       "<style scoped>\n",
       "    .dataframe tbody tr th:only-of-type {\n",
       "        vertical-align: middle;\n",
       "    }\n",
       "\n",
       "    .dataframe tbody tr th {\n",
       "        vertical-align: top;\n",
       "    }\n",
       "\n",
       "    .dataframe thead th {\n",
       "        text-align: right;\n",
       "    }\n",
       "</style>\n",
       "<table border=\"1\" class=\"dataframe\">\n",
       "  <thead>\n",
       "    <tr style=\"text-align: right;\">\n",
       "      <th></th>\n",
       "      <th>age</th>\n",
       "      <th>capital-gain</th>\n",
       "      <th>capital-loss</th>\n",
       "      <th>hours-per-week</th>\n",
       "      <th>workclass_Federal-gov</th>\n",
       "      <th>workclass_Local-gov</th>\n",
       "      <th>workclass_Never-worked</th>\n",
       "      <th>workclass_Private</th>\n",
       "      <th>workclass_Self-emp-inc</th>\n",
       "      <th>workclass_Self-emp-not-inc</th>\n",
       "      <th>...</th>\n",
       "      <th>occupation_Prof-specialty</th>\n",
       "      <th>occupation_Protective-serv</th>\n",
       "      <th>occupation_Sales</th>\n",
       "      <th>occupation_Tech-support</th>\n",
       "      <th>occupation_Transport-moving</th>\n",
       "      <th>sex_Male</th>\n",
       "      <th>race_Asian-Pac-Islander</th>\n",
       "      <th>race_Black</th>\n",
       "      <th>race_Other</th>\n",
       "      <th>race_White</th>\n",
       "    </tr>\n",
       "  </thead>\n",
       "  <tbody>\n",
       "    <tr>\n",
       "      <th>0</th>\n",
       "      <td>39</td>\n",
       "      <td>2174</td>\n",
       "      <td>0</td>\n",
       "      <td>40</td>\n",
       "      <td>False</td>\n",
       "      <td>False</td>\n",
       "      <td>False</td>\n",
       "      <td>False</td>\n",
       "      <td>False</td>\n",
       "      <td>False</td>\n",
       "      <td>...</td>\n",
       "      <td>False</td>\n",
       "      <td>False</td>\n",
       "      <td>False</td>\n",
       "      <td>False</td>\n",
       "      <td>False</td>\n",
       "      <td>True</td>\n",
       "      <td>False</td>\n",
       "      <td>False</td>\n",
       "      <td>False</td>\n",
       "      <td>True</td>\n",
       "    </tr>\n",
       "    <tr>\n",
       "      <th>1</th>\n",
       "      <td>50</td>\n",
       "      <td>0</td>\n",
       "      <td>0</td>\n",
       "      <td>13</td>\n",
       "      <td>False</td>\n",
       "      <td>False</td>\n",
       "      <td>False</td>\n",
       "      <td>False</td>\n",
       "      <td>False</td>\n",
       "      <td>True</td>\n",
       "      <td>...</td>\n",
       "      <td>False</td>\n",
       "      <td>False</td>\n",
       "      <td>False</td>\n",
       "      <td>False</td>\n",
       "      <td>False</td>\n",
       "      <td>True</td>\n",
       "      <td>False</td>\n",
       "      <td>False</td>\n",
       "      <td>False</td>\n",
       "      <td>True</td>\n",
       "    </tr>\n",
       "    <tr>\n",
       "      <th>2</th>\n",
       "      <td>38</td>\n",
       "      <td>0</td>\n",
       "      <td>0</td>\n",
       "      <td>40</td>\n",
       "      <td>False</td>\n",
       "      <td>False</td>\n",
       "      <td>False</td>\n",
       "      <td>True</td>\n",
       "      <td>False</td>\n",
       "      <td>False</td>\n",
       "      <td>...</td>\n",
       "      <td>False</td>\n",
       "      <td>False</td>\n",
       "      <td>False</td>\n",
       "      <td>False</td>\n",
       "      <td>False</td>\n",
       "      <td>True</td>\n",
       "      <td>False</td>\n",
       "      <td>False</td>\n",
       "      <td>False</td>\n",
       "      <td>True</td>\n",
       "    </tr>\n",
       "    <tr>\n",
       "      <th>3</th>\n",
       "      <td>53</td>\n",
       "      <td>0</td>\n",
       "      <td>0</td>\n",
       "      <td>40</td>\n",
       "      <td>False</td>\n",
       "      <td>False</td>\n",
       "      <td>False</td>\n",
       "      <td>True</td>\n",
       "      <td>False</td>\n",
       "      <td>False</td>\n",
       "      <td>...</td>\n",
       "      <td>False</td>\n",
       "      <td>False</td>\n",
       "      <td>False</td>\n",
       "      <td>False</td>\n",
       "      <td>False</td>\n",
       "      <td>True</td>\n",
       "      <td>False</td>\n",
       "      <td>True</td>\n",
       "      <td>False</td>\n",
       "      <td>False</td>\n",
       "    </tr>\n",
       "    <tr>\n",
       "      <th>4</th>\n",
       "      <td>28</td>\n",
       "      <td>0</td>\n",
       "      <td>0</td>\n",
       "      <td>40</td>\n",
       "      <td>False</td>\n",
       "      <td>False</td>\n",
       "      <td>False</td>\n",
       "      <td>True</td>\n",
       "      <td>False</td>\n",
       "      <td>False</td>\n",
       "      <td>...</td>\n",
       "      <td>True</td>\n",
       "      <td>False</td>\n",
       "      <td>False</td>\n",
       "      <td>False</td>\n",
       "      <td>False</td>\n",
       "      <td>False</td>\n",
       "      <td>False</td>\n",
       "      <td>True</td>\n",
       "      <td>False</td>\n",
       "      <td>False</td>\n",
       "    </tr>\n",
       "  </tbody>\n",
       "</table>\n",
       "<p>5 rows × 37 columns</p>\n",
       "</div>"
      ],
      "text/plain": [
       "   age  capital-gain  capital-loss  hours-per-week  workclass_Federal-gov  \\\n",
       "0   39          2174             0              40                  False   \n",
       "1   50             0             0              13                  False   \n",
       "2   38             0             0              40                  False   \n",
       "3   53             0             0              40                  False   \n",
       "4   28             0             0              40                  False   \n",
       "\n",
       "   workclass_Local-gov  workclass_Never-worked  workclass_Private  \\\n",
       "0                False                   False              False   \n",
       "1                False                   False              False   \n",
       "2                False                   False               True   \n",
       "3                False                   False               True   \n",
       "4                False                   False               True   \n",
       "\n",
       "   workclass_Self-emp-inc  workclass_Self-emp-not-inc  ...  \\\n",
       "0                   False                       False  ...   \n",
       "1                   False                        True  ...   \n",
       "2                   False                       False  ...   \n",
       "3                   False                       False  ...   \n",
       "4                   False                       False  ...   \n",
       "\n",
       "   occupation_Prof-specialty  occupation_Protective-serv  occupation_Sales  \\\n",
       "0                      False                       False             False   \n",
       "1                      False                       False             False   \n",
       "2                      False                       False             False   \n",
       "3                      False                       False             False   \n",
       "4                       True                       False             False   \n",
       "\n",
       "   occupation_Tech-support  occupation_Transport-moving  sex_Male  \\\n",
       "0                    False                        False      True   \n",
       "1                    False                        False      True   \n",
       "2                    False                        False      True   \n",
       "3                    False                        False      True   \n",
       "4                    False                        False     False   \n",
       "\n",
       "   race_Asian-Pac-Islander  race_Black  race_Other  race_White  \n",
       "0                    False       False       False        True  \n",
       "1                    False       False       False        True  \n",
       "2                    False       False       False        True  \n",
       "3                    False        True       False       False  \n",
       "4                    False        True       False       False  \n",
       "\n",
       "[5 rows x 37 columns]"
      ]
     },
     "execution_count": 5,
     "metadata": {},
     "output_type": "execute_result"
    }
   ],
   "source": [
    "X = pd.get_dummies(df[features_list], drop_first=True)\n",
    "X.head()"
   ]
  },
  {
   "cell_type": "markdown",
   "id": "396462f4",
   "metadata": {},
   "source": [
    "4. Create the output variable ***y***, which is binary. It should be 0 when income is less than 50k and 1 when it is greater than 50k."
   ]
  },
  {
   "cell_type": "code",
   "execution_count": 6,
   "id": "9870abea",
   "metadata": {},
   "outputs": [
    {
     "data": {
      "text/plain": [
       "income\n",
       "1    0.75919\n",
       "0    0.24081\n",
       "Name: proportion, dtype: float64"
      ]
     },
     "execution_count": 6,
     "metadata": {},
     "output_type": "execute_result"
    }
   ],
   "source": [
    "y = (df.income == '<=50K')*1 \n",
    "y.value_counts(normalize=True)"
   ]
  },
  {
   "cell_type": "markdown",
   "id": "608b858e",
   "metadata": {},
   "source": [
    "5. Split the data into a train and test set with a test size of 20%."
   ]
  },
  {
   "cell_type": "code",
   "execution_count": 7,
   "id": "82062c65",
   "metadata": {},
   "outputs": [],
   "source": [
    "x_train, x_test, y_train, y_test = train_test_split(X,y, random_state=1, test_size=.2)"
   ]
  },
  {
   "cell_type": "markdown",
   "id": "bbb8c4c8",
   "metadata": {},
   "source": [
    "6. Instantiate an instance of a RandomForestClassifier() (with default parameters). Fit the model on the train data and print the score (accuracy) on the test data. This will act as a baseline to compare other model performances."
   ]
  },
  {
   "cell_type": "code",
   "execution_count": 8,
   "id": "67856260",
   "metadata": {},
   "outputs": [
    {
     "name": "stdout",
     "output_type": "stream",
     "text": [
      "Accuracy of the Random Forest Classifier (default parameters): 0.8421618301857823\n"
     ]
    }
   ],
   "source": [
    "rf = RandomForestClassifier()\n",
    "rf.fit(x_train, y_train)\n",
    "print(\"Accuracy of the Random Forest Classifier (default parameters):\", rf.score(x_test, y_test))"
   ]
  },
  {
   "cell_type": "markdown",
   "id": "69c884ea",
   "metadata": {},
   "source": [
    "7. We will explore tuning the random forest classifier model by testing the performance over a range of max_depth values from 1-25."
   ]
  },
  {
   "cell_type": "code",
   "execution_count": 9,
   "id": "f715f966",
   "metadata": {},
   "outputs": [],
   "source": [
    "#Tune the hyperparameter max_depth over a range from 1-25, save scores for test and train set\n",
    "np.random.seed(0)\n",
    "accuracy_train = []\n",
    "accuracy_test = []\n",
    "m_depths = range(1,26)\n",
    "for depth in m_depths:\n",
    "    rf = RandomForestClassifier(max_depth=depth)\n",
    "    rf.fit(x_train, y_train)\n",
    "    accuracy_train.append(accuracy_score(y_train, rf.predict(x_train)))\n",
    "    accuracy_test.append(accuracy_score(y_test, rf.predict(x_test)))  "
   ]
  },
  {
   "cell_type": "markdown",
   "id": "c50b0aae",
   "metadata": {},
   "source": [
    "8. Find the largest accuracy and the depth this occurs on the test data."
   ]
  },
  {
   "cell_type": "code",
   "execution_count": 10,
   "id": "8da85016",
   "metadata": {},
   "outputs": [
    {
     "name": "stdout",
     "output_type": "stream",
     "text": [
      "Best accuracy score for max_depths from 1 to 25: 0.8635037617073545\n",
      "Best max_depths value for the best accuracy score: 16\n"
     ]
    }
   ],
   "source": [
    "best_accuracy = np.max(accuracy_test)\n",
    "best_max_depth = m_depths[np.argmax(accuracy_test)]\n",
    "print(\"Best accuracy score for max_depths from 1 to 25:\", best_accuracy)\n",
    "print(\"Best max_depths value for the best accuracy score:\", best_max_depth)"
   ]
  },
  {
   "cell_type": "markdown",
   "id": "8194fbb9",
   "metadata": {},
   "source": [
    "9. Plot the training and test accuracy of the models versus the max_depth."
   ]
  },
  {
   "cell_type": "code",
   "execution_count": 11,
   "id": "12b362e3",
   "metadata": {},
   "outputs": [
    {
     "data": {
      "image/png": "[encoded data removed]",
      "text/plain": [
       "<Figure size 640x480 with 1 Axes>"
      ]
     },
     "metadata": {},
     "output_type": "display_data"
    }
   ],
   "source": [
    "plt.plot(m_depths, accuracy_test,'bx:',m_depths, accuracy_train,'r*:')\n",
    "plt.legend(['test accuracy', 'train accuracy'])\n",
    "plt.xlabel('max depth')\n",
    "plt.ylabel('accuracy')\n",
    "plt.show()"
   ]
  },
  {
   "cell_type": "markdown",
   "id": "39131f59",
   "metadata": {},
   "source": [
    "10. Refit the random forest model using the max_depth from above; save the feature importances in a dataframe. Sort the results and print the top ten features."
   ]
  },
  {
   "cell_type": "code",
   "execution_count": 12,
   "id": "00f07b86",
   "metadata": {},
   "outputs": [
    {
     "name": "stdout",
     "output_type": "stream",
     "text": [
      "Best 5 random forest features:\n",
      "                              feature  importance\n",
      "1                        capital-gain    0.197219\n",
      "13  marital-status_Married-civ-spouse    0.192065\n",
      "0                                 age    0.138297\n",
      "3                      hours-per-week    0.097108\n",
      "2                        capital-loss    0.065327\n",
      "15       marital-status_Never-married    0.058250\n",
      "27          occupation_Prof-specialty    0.046342\n",
      "21         occupation_Exec-managerial    0.045194\n",
      "32                           sex_Male    0.033039\n",
      "25           occupation_Other-service    0.014414\n"
     ]
    }
   ],
   "source": [
    "rf_best = RandomForestClassifier(max_depth=best_max_depth)\n",
    "rf_best.fit(x_train, y_train)\n",
    "feature_importances = pd.DataFrame(zip(x_train.columns, rf_best.feature_importances_),  columns=['feature', 'importance'])\n",
    "print('Best 5 random forest features:')\n",
    "print(feature_importances.sort_values('importance', ascending=False).iloc[0:10])"
   ]
  },
  {
   "cell_type": "markdown",
   "id": "639e9feb",
   "metadata": {},
   "source": [
    "### Create Additional Features and Re-Tune\n",
    "\n",
    "Let's add two features to our list **education** and **native-country**.\n",
    "Looking at the education feature, there are 16 unique values – from preschool to professional school. Rather than adding dummy variables for each value, it makes sense to bin some of these values together.\n",
    "\n",
    "11. While there are many ways to do this, we will take the approach of combining the values into 3 groups: High school and less, College to Bachelors and Masters and more. Create a new column in df for this new features called **education_bin**."
   ]
  },
  {
   "cell_type": "code",
   "execution_count": 13,
   "id": "cf1b4800",
   "metadata": {},
   "outputs": [
    {
     "name": "stdout",
     "output_type": "stream",
     "text": [
      "['Bachelors' 'HS-grad' '11th' 'Masters' '9th' 'Some-college' 'Assoc-acdm'\n",
      " 'Assoc-voc' '7th-8th' 'Doctorate' 'Prof-school' '5th-6th' '10th'\n",
      " '1st-4th' 'Preschool' '12th']\n",
      "[13  9  7 14  5 10 12 11  4 16 15  3  6  2  1  8]\n"
     ]
    }
   ],
   "source": [
    "print(df.education.unique())\n",
    "print(df['education-num'].unique())"
   ]
  },
  {
   "cell_type": "code",
   "execution_count": 14,
   "id": "3f61927b",
   "metadata": {},
   "outputs": [],
   "source": [
    "df['education_bin'] = pd.cut(df['education-num'], [0,9,13,16], labels=['HS or less', 'College to Bachelors', 'Masters or more'])\n",
    "features_list.extend(['education_bin','native-country'])\n",
    "                     "
   ]
  },
  {
   "cell_type": "markdown",
   "id": "01e852fc",
   "metadata": {},
   "source": [
    "13. Now we recreate data variable X, split new dataset for our study and, as we did before, we will tune the random forest classifier model by testing the performance over a range of max_depth values from 1-25."
   ]
  },
  {
   "cell_type": "code",
   "execution_count": 15,
   "id": "7d333d2c",
   "metadata": {},
   "outputs": [],
   "source": [
    "X = pd.get_dummies(df[features_list], drop_first=True)\n",
    "x_train, x_test, y_train, y_test = train_test_split(X,y, random_state=1, test_size=.2)"
   ]
  },
  {
   "cell_type": "code",
   "execution_count": 16,
   "id": "990f4c60",
   "metadata": {},
   "outputs": [],
   "source": [
    "#Tune the hyperparameter max_depth over a range from 1-25, save scores for test and train set\n",
    "np.random.seed(0)\n",
    "new_accuracy_train = []\n",
    "new_accuracy_test = []\n",
    "m_depths = range(1,26)\n",
    "for depth in m_depths:\n",
    "    rf = RandomForestClassifier(max_depth=depth)\n",
    "    rf.fit(x_train, y_train)\n",
    "    new_accuracy_train.append(accuracy_score(y_train, rf.predict(x_train)))\n",
    "    new_accuracy_test.append(accuracy_score(y_test, rf.predict(x_test))) \n",
    "    \n",
    "    "
   ]
  },
  {
   "cell_type": "markdown",
   "id": "0ec566eb",
   "metadata": {},
   "source": [
    "14.Find the largest accuracy and the depth this occurs on the test data. Compare the results from the previous model tuned."
   ]
  },
  {
   "cell_type": "code",
   "execution_count": 17,
   "id": "3a57cb0d",
   "metadata": {},
   "outputs": [
    {
     "name": "stdout",
     "output_type": "stream",
     "text": [
      "Best new accuracy score for max_depths from 1 to 25: 0.8701059419622293\n",
      "Best new max_depths value for the best new accuracy score: 21\n"
     ]
    }
   ],
   "source": [
    "best_new_accuracy = np.max(new_accuracy_test)\n",
    "best_new_max_depth = m_depths[np.argmax(new_accuracy_test)]\n",
    "print(\"Best new accuracy score for max_depths from 1 to 25:\", best_new_accuracy)\n",
    "print(\"Best new max_depths value for the best new accuracy score:\", best_new_max_depth)"
   ]
  },
  {
   "cell_type": "markdown",
   "id": "86db7776",
   "metadata": {},
   "source": [
    "15. Plot the training and test accuracy of the models versus the max_depth. Compare the results from the previous model tuned."
   ]
  },
  {
   "cell_type": "code",
   "execution_count": 18,
   "id": "e9c6dd55",
   "metadata": {},
   "outputs": [
    {
     "data": {
      "image/png": "[encoded data removed]",
      "text/plain": [
       "<Figure size 640x480 with 1 Axes>"
      ]
     },
     "metadata": {},
     "output_type": "display_data"
    }
   ],
   "source": [
    "plt.clf()\n",
    "plt.plot(m_depths, new_accuracy_test,'bx:',m_depths, new_accuracy_train,'r*:')\n",
    "plt.legend(['test accuracy', 'train accuracy'])\n",
    "plt.xlabel('max depth')\n",
    "plt.ylabel('accuracy')\n",
    "plt.show()"
   ]
  },
  {
   "cell_type": "markdown",
   "id": "dbfcda68",
   "metadata": {},
   "source": [
    "16. Refit the random forest model using the max_depth from above; save the feature importances in a dataframe. Sort the results and print the top ten features. Compare the results from the previous model tuned."
   ]
  },
  {
   "cell_type": "code",
   "execution_count": 19,
   "id": "55ea8ee0",
   "metadata": {},
   "outputs": [
    {
     "name": "stdout",
     "output_type": "stream",
     "text": [
      "Best 5 random forest features (extended feature list):\n",
      "                               feature  importance\n",
      "13   marital-status_Married-civ-spouse    0.162802\n",
      "1                         capital-gain    0.159801\n",
      "0                                  age    0.145074\n",
      "3                       hours-per-week    0.097435\n",
      "15        marital-status_Never-married    0.055396\n",
      "38       education_bin_Masters or more    0.053781\n",
      "2                         capital-loss    0.051023\n",
      "21          occupation_Exec-managerial    0.033866\n",
      "32                            sex_Male    0.031086\n",
      "37  education_bin_College to Bachelors    0.030622\n"
     ]
    }
   ],
   "source": [
    "rf_new_best = RandomForestClassifier(max_depth=best_new_max_depth)\n",
    "rf_new_best.fit(x_train, y_train)\n",
    "new_features_importances = pd.DataFrame(zip(x_train.columns, rf_new_best.feature_importances_),  columns=['feature', 'importance'])\n",
    "print('Best 5 random forest features (extended feature list):')\n",
    "print(new_features_importances.sort_values('importance', ascending=False).iloc[0:10])"
   ]
  },
  {
   "cell_type": "markdown",
   "id": "dd2810ed",
   "metadata": {},
   "source": [
    "### Conclusion\n",
    "We can note that the accuracy of our final model increased and one of our added features is in the top 10 based on importance!\n",
    "\n",
    "There are a few different ways to extend this project:\n",
    "\n",
    "- Are there other features that may lead to an even better performace? Consider creating new ones or adding additional features not part of the original feature list.\n",
    "- Consider tuning hyperparameters based on a different evaluation metric – our classes are fairly imbalanced, AUC of F1 may lead to a different result\n",
    "- Tune more parameters of the model. For example, it is interesting what happens if we tune ***max_features*** or ***n_estimators***."
   ]
  }
 ],
 "metadata": {
  "kernelspec": {
   "display_name": "Python 3 (ipykernel)",
   "language": "python",
   "name": "python3"
  },
  "language_info": {
   "codemirror_mode": {
    "name": "ipython",
    "version": 3
   },
   "file_extension": ".py",
   "mimetype": "text/x-python",
   "name": "python",
   "nbconvert_exporter": "python",
   "pygments_lexer": "ipython3",
   "version": "3.10.13"
  }
 },
 "nbformat": 4,
 "nbformat_minor": 5
}
