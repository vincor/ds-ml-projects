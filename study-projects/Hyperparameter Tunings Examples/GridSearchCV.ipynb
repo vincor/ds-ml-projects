{
 "cells": [
  {
   "cell_type": "markdown",
   "id": "7fc10dd4",
   "metadata": {},
   "source": [
    "### Setup"
   ]
  },
  {
   "cell_type": "code",
   "execution_count": 1,
   "id": "6f1b4351",
   "metadata": {
    "tags": [
     "setup"
    ]
   },
   "outputs": [],
   "source": [
    "import pandas as pd\n",
    "from sklearn.datasets import load_breast_cancer\n",
    "from sklearn.model_selection import train_test_split\n",
    "from sklearn.linear_model import LogisticRegression\n",
    "from sklearn.model_selection import GridSearchCV\n",
    "\n",
    "# Load the data set\n",
    "cancer = load_breast_cancer()\n",
    "\n",
    "# Split into training and testing data\n",
    "X_train, X_test, y_train, y_test = train_test_split(cancer.data, cancer.target, random_state = 19)\n",
    "\n",
    "## Intiializaing model and dictionary of hyperparameters\n",
    "lr = LogisticRegression(solver='liblinear', max_iter=1000)\n",
    "parameters = {'penalty': ['l1', 'l2'], 'C': [1, 10, 100]}\n",
    "\n",
    "##Setting up Grid Search\n",
    "clf = GridSearchCV(lr, parameters)"
   ]
  },
  {
   "cell_type": "markdown",
   "id": "eb4b1f8b",
   "metadata": {},
   "source": [
    "### 1. Fit `clf` to training data and get best hyperparameters"
   ]
  },
  {
   "cell_type": "code",
   "execution_count": 2,
   "id": "302aa7a7",
   "metadata": {
    "tags": [
     "cp1"
    ]
   },
   "outputs": [
    {
     "name": "stdout",
     "output_type": "stream",
     "text": [
      "LogisticRegression(C=10, max_iter=1000, penalty='l1', solver='liblinear')\n",
      "{'C': 10, 'penalty': 'l1'}\n"
     ]
    }
   ],
   "source": [
    "clf.fit(X_train, y_train)\n",
    "best_model = clf.best_estimator_\n",
    "\n",
    "print(best_model)\n",
    "print(clf.best_params_)"
   ]
  },
  {
   "cell_type": "markdown",
   "id": "4ea62423",
   "metadata": {},
   "source": [
    "### 2. Calculate training and test scores of the best estimator"
   ]
  },
  {
   "cell_type": "code",
   "execution_count": 3,
   "id": "518b9b30",
   "metadata": {
    "tags": [
     "cp2"
    ]
   },
   "outputs": [
    {
     "name": "stdout",
     "output_type": "stream",
     "text": [
      "0.9671135430916552\n",
      "0.951048951048951\n"
     ]
    }
   ],
   "source": [
    "best_score = clf.best_score_\n",
    "test_score = clf.score(X_test, y_test)\n",
    "\n",
    "print(best_score)\n",
    "print(test_score)"
   ]
  },
  {
   "cell_type": "markdown",
   "id": "ffa4f9ea",
   "metadata": {},
   "source": [
    "### 3. Viewing grid search Results"
   ]
  },
  {
   "cell_type": "code",
   "execution_count": 4,
   "id": "f754b51d",
   "metadata": {
    "tags": [
     "cp3"
    ]
   },
   "outputs": [
    {
     "name": "stdout",
     "output_type": "stream",
     "text": [
      "     C penalty     score\n",
      "0    1      l1  0.955349\n",
      "1    1      l2  0.952996\n",
      "2   10      l1  0.967114\n",
      "3   10      l2  0.957702\n",
      "4  100      l1  0.957674\n",
      "5  100      l2  0.957674\n"
     ]
    }
   ],
   "source": [
    "hyperparameter_grid = pd.DataFrame(clf.cv_results_['params'])\n",
    "grid_scores = pd.DataFrame(clf.cv_results_['mean_test_score'], columns=['score'])\n",
    "\n",
    "df = pd.concat([hyperparameter_grid, grid_scores], axis = 1)\n",
    "print(df)"
   ]
  },
  {
   "cell_type": "code",
   "execution_count": null,
   "id": "29ca4d4e",
   "metadata": {},
   "outputs": [],
   "source": []
  }
 ],
 "metadata": {
  "celltoolbar": "Raw Cell Format",
  "kernelspec": {
   "display_name": "Python 3 (ipykernel)",
   "language": "python",
   "name": "python3"
  },
  "language_info": {
   "codemirror_mode": {
    "name": "ipython",
    "version": 3
   },
   "file_extension": ".py",
   "mimetype": "text/x-python",
   "name": "python",
   "nbconvert_exporter": "python",
   "pygments_lexer": "ipython3",
   "version": "3.10.13"
  }
 },
 "nbformat": 4,
 "nbformat_minor": 5
}
